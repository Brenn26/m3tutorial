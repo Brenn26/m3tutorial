{
 "cells": [
  {
   "cell_type": "code",
   "execution_count": 2,
   "id": "8be1069b-965e-4555-8a2e-fee20dc2554e",
   "metadata": {},
   "outputs": [
    {
     "name": "stdout",
     "output_type": "stream",
     "text": [
      "[0, 0, 0, 1, 1, 1, 2, 2]\n"
     ]
    }
   ],
   "source": [
    "#sorting array\n",
    "\n",
    "class Solution:\n",
    "    def sort012(self, arr, n):\n",
    "        low = 0\n",
    "        mid = 0\n",
    "        high = n - 1\n",
    "        \n",
    "        while mid <= high:\n",
    "            if arr[mid] == 0:\n",
    "                arr[low], arr[mid] = arr[mid], arr[low]\n",
    "                low += 1\n",
    "                mid += 1\n",
    "            elif arr[mid] == 1:\n",
    "                mid += 1\n",
    "            else:  # arr[mid] == 2\n",
    "                arr[high], arr[mid] = arr[mid], arr[high]\n",
    "                high -= 1\n",
    "solu = Solution()\n",
    "arr = [0, 1, 2, 0, 1, 2, 1, 0]\n",
    "solu.sort012(arr, len(arr))\n",
    "print(arr)"
   ]
  },
  {
   "cell_type": "code",
   "execution_count": 3,
   "id": "59ec2771-6d4d-4a65-bf9f-dc441cb2f1b2",
   "metadata": {},
   "outputs": [
    {
     "name": "stdout",
     "output_type": "stream",
     "text": [
      "5\n"
     ]
    }
   ],
   "source": [
    "class Solution:\n",
    "    def binarysearch(self, arr, n, k):\n",
    "        low = 0\n",
    "        high = n - 1\n",
    "        \n",
    "        while low <= high:\n",
    "            mid = (low + high) // 2\n",
    "            if arr[mid] == k:\n",
    "                return mid\n",
    "            elif arr[mid] < k:\n",
    "                low = mid + 1\n",
    "            else:\n",
    "                high = mid - 1\n",
    "        \n",
    "        return -1  #Incase it doesnt exist\n",
    "\n",
    "search = Solution()\n",
    "arr = [1, 2, 3, 4, 5, 6, 7, 8, 9]\n",
    "k = 6\n",
    "result = search.binarysearch(arr, len(arr), k)\n",
    "print(result) "
   ]
  }
 ],
 "metadata": {
  "kernelspec": {
   "display_name": "Python 3 (ipykernel)",
   "language": "python",
   "name": "python3"
  },
  "language_info": {
   "codemirror_mode": {
    "name": "ipython",
    "version": 3
   },
   "file_extension": ".py",
   "mimetype": "text/x-python",
   "name": "python",
   "nbconvert_exporter": "python",
   "pygments_lexer": "ipython3",
   "version": "3.11.7"
  }
 },
 "nbformat": 4,
 "nbformat_minor": 5
}
